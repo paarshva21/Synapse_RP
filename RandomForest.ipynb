{
  "nbformat": 4,
  "nbformat_minor": 0,
  "metadata": {
    "colab": {
      "provenance": [],
      "gpuType": "T4"
    },
    "kernelspec": {
      "name": "python3",
      "display_name": "Python 3"
    },
    "language_info": {
      "name": "python"
    },
    "accelerator": "GPU",
    "gpuClass": "standard"
  },
  "cells": [
    {
      "cell_type": "code",
      "execution_count": 17,
      "metadata": {
        "id": "T9uoZqPB9-la",
        "colab": {
          "base_uri": "https://localhost:8080/"
        },
        "outputId": "7caa7d5a-1b59-4728-a35c-4f4283790418"
      },
      "outputs": [
        {
          "output_type": "stream",
          "name": "stdout",
          "text": [
            "Drive already mounted at /content/gdrive/; to attempt to forcibly remount, call drive.mount(\"/content/gdrive/\", force_remount=True).\n"
          ]
        }
      ],
      "source": [
        "from google.colab import drive\n",
        "drive.mount(\"/content/gdrive/\")"
      ]
    },
    {
      "cell_type": "code",
      "source": [
        "import pandas as pd\n",
        "import numpy as np\n",
        "import matplotlib.pyplot as plt"
      ],
      "metadata": {
        "id": "D7AimRRU-C9R"
      },
      "execution_count": 18,
      "outputs": []
    },
    {
      "cell_type": "code",
      "source": [
        "df_new = pd.read_csv(\"/content/gdrive/MyDrive/BestOneYet.csv\")"
      ],
      "metadata": {
        "id": "lZBOV3y4-mkP"
      },
      "execution_count": 19,
      "outputs": []
    },
    {
      "cell_type": "code",
      "source": [
        "df_new.head()"
      ],
      "metadata": {
        "id": "ve62HlIe-5D5",
        "colab": {
          "base_uri": "https://localhost:8080/",
          "height": 250
        },
        "outputId": "38b58d40-ce35-49eb-ec85-27ef11717de3"
      },
      "execution_count": 20,
      "outputs": [
        {
          "output_type": "execute_result",
          "data": {
            "text/plain": [
              "   Unnamed: 0  Optimum Time quantum  Avg Arrival Time  Max Arrival Time  \\\n",
              "0           0                    12          5.368421                10   \n",
              "1           1                    12          4.176471                 9   \n",
              "2           2                    15          3.866667                10   \n",
              "3           3                    13          4.764706                 9   \n",
              "4           4                    14          4.421053                10   \n",
              "\n",
              "   Min Arrival Time  Avg Burst Time  Max Burst Time  Min Burst Time  \\\n",
              "0                 0        8.315789              12               1   \n",
              "1                 0        8.000000              12               1   \n",
              "2                 0        9.866667              15               4   \n",
              "3                 0        8.588235              13               3   \n",
              "4                 0        9.157895              14               5   \n",
              "\n",
              "   Total Completion Time  Number of processes  \n",
              "0                    158                   19  \n",
              "1                    136                   17  \n",
              "2                    148                   15  \n",
              "3                    146                   17  \n",
              "4                    174                   19  "
            ],
            "text/html": [
              "\n",
              "  <div id=\"df-d6412c41-e36a-4005-a90b-c3f76cff679c\">\n",
              "    <div class=\"colab-df-container\">\n",
              "      <div>\n",
              "<style scoped>\n",
              "    .dataframe tbody tr th:only-of-type {\n",
              "        vertical-align: middle;\n",
              "    }\n",
              "\n",
              "    .dataframe tbody tr th {\n",
              "        vertical-align: top;\n",
              "    }\n",
              "\n",
              "    .dataframe thead th {\n",
              "        text-align: right;\n",
              "    }\n",
              "</style>\n",
              "<table border=\"1\" class=\"dataframe\">\n",
              "  <thead>\n",
              "    <tr style=\"text-align: right;\">\n",
              "      <th></th>\n",
              "      <th>Unnamed: 0</th>\n",
              "      <th>Optimum Time quantum</th>\n",
              "      <th>Avg Arrival Time</th>\n",
              "      <th>Max Arrival Time</th>\n",
              "      <th>Min Arrival Time</th>\n",
              "      <th>Avg Burst Time</th>\n",
              "      <th>Max Burst Time</th>\n",
              "      <th>Min Burst Time</th>\n",
              "      <th>Total Completion Time</th>\n",
              "      <th>Number of processes</th>\n",
              "    </tr>\n",
              "  </thead>\n",
              "  <tbody>\n",
              "    <tr>\n",
              "      <th>0</th>\n",
              "      <td>0</td>\n",
              "      <td>12</td>\n",
              "      <td>5.368421</td>\n",
              "      <td>10</td>\n",
              "      <td>0</td>\n",
              "      <td>8.315789</td>\n",
              "      <td>12</td>\n",
              "      <td>1</td>\n",
              "      <td>158</td>\n",
              "      <td>19</td>\n",
              "    </tr>\n",
              "    <tr>\n",
              "      <th>1</th>\n",
              "      <td>1</td>\n",
              "      <td>12</td>\n",
              "      <td>4.176471</td>\n",
              "      <td>9</td>\n",
              "      <td>0</td>\n",
              "      <td>8.000000</td>\n",
              "      <td>12</td>\n",
              "      <td>1</td>\n",
              "      <td>136</td>\n",
              "      <td>17</td>\n",
              "    </tr>\n",
              "    <tr>\n",
              "      <th>2</th>\n",
              "      <td>2</td>\n",
              "      <td>15</td>\n",
              "      <td>3.866667</td>\n",
              "      <td>10</td>\n",
              "      <td>0</td>\n",
              "      <td>9.866667</td>\n",
              "      <td>15</td>\n",
              "      <td>4</td>\n",
              "      <td>148</td>\n",
              "      <td>15</td>\n",
              "    </tr>\n",
              "    <tr>\n",
              "      <th>3</th>\n",
              "      <td>3</td>\n",
              "      <td>13</td>\n",
              "      <td>4.764706</td>\n",
              "      <td>9</td>\n",
              "      <td>0</td>\n",
              "      <td>8.588235</td>\n",
              "      <td>13</td>\n",
              "      <td>3</td>\n",
              "      <td>146</td>\n",
              "      <td>17</td>\n",
              "    </tr>\n",
              "    <tr>\n",
              "      <th>4</th>\n",
              "      <td>4</td>\n",
              "      <td>14</td>\n",
              "      <td>4.421053</td>\n",
              "      <td>10</td>\n",
              "      <td>0</td>\n",
              "      <td>9.157895</td>\n",
              "      <td>14</td>\n",
              "      <td>5</td>\n",
              "      <td>174</td>\n",
              "      <td>19</td>\n",
              "    </tr>\n",
              "  </tbody>\n",
              "</table>\n",
              "</div>\n",
              "      <button class=\"colab-df-convert\" onclick=\"convertToInteractive('df-d6412c41-e36a-4005-a90b-c3f76cff679c')\"\n",
              "              title=\"Convert this dataframe to an interactive table.\"\n",
              "              style=\"display:none;\">\n",
              "        \n",
              "  <svg xmlns=\"http://www.w3.org/2000/svg\" height=\"24px\"viewBox=\"0 0 24 24\"\n",
              "       width=\"24px\">\n",
              "    <path d=\"M0 0h24v24H0V0z\" fill=\"none\"/>\n",
              "    <path d=\"M18.56 5.44l.94 2.06.94-2.06 2.06-.94-2.06-.94-.94-2.06-.94 2.06-2.06.94zm-11 1L8.5 8.5l.94-2.06 2.06-.94-2.06-.94L8.5 2.5l-.94 2.06-2.06.94zm10 10l.94 2.06.94-2.06 2.06-.94-2.06-.94-.94-2.06-.94 2.06-2.06.94z\"/><path d=\"M17.41 7.96l-1.37-1.37c-.4-.4-.92-.59-1.43-.59-.52 0-1.04.2-1.43.59L10.3 9.45l-7.72 7.72c-.78.78-.78 2.05 0 2.83L4 21.41c.39.39.9.59 1.41.59.51 0 1.02-.2 1.41-.59l7.78-7.78 2.81-2.81c.8-.78.8-2.07 0-2.86zM5.41 20L4 18.59l7.72-7.72 1.47 1.35L5.41 20z\"/>\n",
              "  </svg>\n",
              "      </button>\n",
              "      \n",
              "  <style>\n",
              "    .colab-df-container {\n",
              "      display:flex;\n",
              "      flex-wrap:wrap;\n",
              "      gap: 12px;\n",
              "    }\n",
              "\n",
              "    .colab-df-convert {\n",
              "      background-color: #E8F0FE;\n",
              "      border: none;\n",
              "      border-radius: 50%;\n",
              "      cursor: pointer;\n",
              "      display: none;\n",
              "      fill: #1967D2;\n",
              "      height: 32px;\n",
              "      padding: 0 0 0 0;\n",
              "      width: 32px;\n",
              "    }\n",
              "\n",
              "    .colab-df-convert:hover {\n",
              "      background-color: #E2EBFA;\n",
              "      box-shadow: 0px 1px 2px rgba(60, 64, 67, 0.3), 0px 1px 3px 1px rgba(60, 64, 67, 0.15);\n",
              "      fill: #174EA6;\n",
              "    }\n",
              "\n",
              "    [theme=dark] .colab-df-convert {\n",
              "      background-color: #3B4455;\n",
              "      fill: #D2E3FC;\n",
              "    }\n",
              "\n",
              "    [theme=dark] .colab-df-convert:hover {\n",
              "      background-color: #434B5C;\n",
              "      box-shadow: 0px 1px 3px 1px rgba(0, 0, 0, 0.15);\n",
              "      filter: drop-shadow(0px 1px 2px rgba(0, 0, 0, 0.3));\n",
              "      fill: #FFFFFF;\n",
              "    }\n",
              "  </style>\n",
              "\n",
              "      <script>\n",
              "        const buttonEl =\n",
              "          document.querySelector('#df-d6412c41-e36a-4005-a90b-c3f76cff679c button.colab-df-convert');\n",
              "        buttonEl.style.display =\n",
              "          google.colab.kernel.accessAllowed ? 'block' : 'none';\n",
              "\n",
              "        async function convertToInteractive(key) {\n",
              "          const element = document.querySelector('#df-d6412c41-e36a-4005-a90b-c3f76cff679c');\n",
              "          const dataTable =\n",
              "            await google.colab.kernel.invokeFunction('convertToInteractive',\n",
              "                                                     [key], {});\n",
              "          if (!dataTable) return;\n",
              "\n",
              "          const docLinkHtml = 'Like what you see? Visit the ' +\n",
              "            '<a target=\"_blank\" href=https://colab.research.google.com/notebooks/data_table.ipynb>data table notebook</a>'\n",
              "            + ' to learn more about interactive tables.';\n",
              "          element.innerHTML = '';\n",
              "          dataTable['output_type'] = 'display_data';\n",
              "          await google.colab.output.renderOutput(dataTable, element);\n",
              "          const docLink = document.createElement('div');\n",
              "          docLink.innerHTML = docLinkHtml;\n",
              "          element.appendChild(docLink);\n",
              "        }\n",
              "      </script>\n",
              "    </div>\n",
              "  </div>\n",
              "  "
            ]
          },
          "metadata": {},
          "execution_count": 20
        }
      ]
    },
    {
      "cell_type": "code",
      "source": [
        "y_new = df_new[\"Optimum Time quantum\"]\n",
        "df_new.drop([\"Unnamed: 0\", \"Optimum Time quantum\"], axis = \"columns\", inplace = True)"
      ],
      "metadata": {
        "id": "WZ-vmhQo_JsF"
      },
      "execution_count": 21,
      "outputs": []
    },
    {
      "cell_type": "code",
      "source": [
        "y_new"
      ],
      "metadata": {
        "colab": {
          "base_uri": "https://localhost:8080/"
        },
        "id": "qAQe9n9SEcmS",
        "outputId": "d10fd4a7-e4fb-481d-d825-4577d9415849"
      },
      "execution_count": 22,
      "outputs": [
        {
          "output_type": "execute_result",
          "data": {
            "text/plain": [
              "0       12\n",
              "1       12\n",
              "2       15\n",
              "3       13\n",
              "4       14\n",
              "        ..\n",
              "9995    15\n",
              "9996    14\n",
              "9997    12\n",
              "9998     9\n",
              "9999    14\n",
              "Name: Optimum Time quantum, Length: 10000, dtype: int64"
            ]
          },
          "metadata": {},
          "execution_count": 22
        }
      ]
    },
    {
      "cell_type": "markdown",
      "source": [
        "#Random Forest Classifier"
      ],
      "metadata": {
        "id": "fSdo2Itp_ppG"
      }
    },
    {
      "cell_type": "code",
      "source": [
        "from sklearn.model_selection import train_test_split\n",
        "from sklearn.ensemble import RandomForestClassifier,AdaBoostClassifier\n",
        "from sklearn.model_selection import GridSearchCV\n",
        "from sklearn.metrics import make_scorer,accuracy_score"
      ],
      "metadata": {
        "id": "Ze7Co0gt_tb0"
      },
      "execution_count": 23,
      "outputs": []
    },
    {
      "cell_type": "code",
      "source": [
        "X_train, X_test, y_train, y_test = train_test_split(df_new, y_new, test_size=0.3, random_state=42)"
      ],
      "metadata": {
        "id": "Z2CZa9vFAG8P"
      },
      "execution_count": 27,
      "outputs": []
    },
    {
      "cell_type": "code",
      "source": [
        "param_grid = {\"max_depth\":[3,4,5,6,7],\"min_samples_split\":[8,9,10,11,12,13, 14, 15],\"criterion\":[\"gini\",\"entropy\",\"log_loss\"]}"
      ],
      "metadata": {
        "id": "zNkDgv4mAb91"
      },
      "execution_count": 28,
      "outputs": []
    },
    {
      "cell_type": "code",
      "source": [
        "rf = RandomForestClassifier()\n",
        "grid = GridSearchCV(estimator = rf, param_grid = param_grid, cv = 4, verbose = 4, n_jobs = 4)\n",
        "grid.fit(X_train, y_train)\n",
        "grid.best_params_"
      ],
      "metadata": {
        "colab": {
          "base_uri": "https://localhost:8080/"
        },
        "id": "SsXlAaCx_v3s",
        "outputId": "47df2ca6-3825-4fca-a1ec-ffb2d5cb25a8"
      },
      "execution_count": 29,
      "outputs": [
        {
          "output_type": "stream",
          "name": "stdout",
          "text": [
            "Fitting 4 folds for each of 120 candidates, totalling 480 fits\n"
          ]
        },
        {
          "output_type": "stream",
          "name": "stderr",
          "text": [
            "/usr/local/lib/python3.10/dist-packages/sklearn/model_selection/_split.py:700: UserWarning: The least populated class in y has only 2 members, which is less than n_splits=4.\n",
            "  warnings.warn(\n"
          ]
        },
        {
          "output_type": "execute_result",
          "data": {
            "text/plain": [
              "{'criterion': 'log_loss', 'max_depth': 7, 'min_samples_split': 12}"
            ]
          },
          "metadata": {},
          "execution_count": 29
        }
      ]
    },
    {
      "cell_type": "code",
      "source": [
        "print(\"Train accuracy = \", np.round(grid.score(X_train,y_train), 3))\n",
        "print(\"Test accuracy = \", np.round(grid.score(X_test,y_test), 3))"
      ],
      "metadata": {
        "id": "LxnoElhBAjWz",
        "colab": {
          "base_uri": "https://localhost:8080/"
        },
        "outputId": "e537bba3-083e-478f-c513-a61e060442c2"
      },
      "execution_count": 30,
      "outputs": [
        {
          "output_type": "stream",
          "name": "stdout",
          "text": [
            "Train accuracy =  0.905\n",
            "Test accuracy =  0.892\n"
          ]
        }
      ]
    },
    {
      "cell_type": "markdown",
      "source": [
        "#Random Forest Regressor"
      ],
      "metadata": {
        "id": "ZdpLBadz0w7C"
      }
    },
    {
      "cell_type": "code",
      "source": [
        "from sklearn.ensemble import RandomForestRegressor\n",
        "from sklearn import metrics"
      ],
      "metadata": {
        "id": "3PIzoT3g01LC"
      },
      "execution_count": 31,
      "outputs": []
    },
    {
      "cell_type": "code",
      "source": [
        "param_grid = {\"max_depth\":[3,4,5,6,7],\"min_samples_split\":[8,9,10,11,12,13,14,15],\"criterion\":['poisson', 'friedman_mse', 'absolute_error', 'squared_error']}"
      ],
      "metadata": {
        "id": "5RS0qJC610La"
      },
      "execution_count": 32,
      "outputs": []
    },
    {
      "cell_type": "code",
      "source": [
        "rf = RandomForestRegressor()\n",
        "grid = GridSearchCV(estimator = rf, param_grid = param_grid, cv = 4, verbose = 4, n_jobs = 4, error_score = 'raise')\n",
        "grid.fit(X_train, y_train)\n",
        "grid.best_params_"
      ],
      "metadata": {
        "colab": {
          "base_uri": "https://localhost:8080/"
        },
        "id": "wVZLQ_yj02rp",
        "outputId": "a48fba14-0c59-4d8c-84d3-181fe11bb86d"
      },
      "execution_count": 34,
      "outputs": [
        {
          "output_type": "stream",
          "name": "stdout",
          "text": [
            "Fitting 4 folds for each of 160 candidates, totalling 640 fits\n"
          ]
        },
        {
          "output_type": "execute_result",
          "data": {
            "text/plain": [
              "{'criterion': 'friedman_mse', 'max_depth': 5, 'min_samples_split': 12}"
            ]
          },
          "metadata": {},
          "execution_count": 34
        }
      ]
    },
    {
      "cell_type": "code",
      "source": [
        "predictions = grid.predict(X_test)\n",
        "predictions"
      ],
      "metadata": {
        "colab": {
          "base_uri": "https://localhost:8080/"
        },
        "id": "byndzzXE9xvN",
        "outputId": "56507d79-415e-4c04-b23a-4271d8de0903"
      },
      "execution_count": 35,
      "outputs": [
        {
          "output_type": "execute_result",
          "data": {
            "text/plain": [
              "array([14.90334891, 13.92782308, 14.91584402, ..., 12.69591495,\n",
              "       13.93223585, 13.9290768 ])"
            ]
          },
          "metadata": {},
          "execution_count": 35
        }
      ]
    },
    {
      "cell_type": "code",
      "source": [
        "print(\"R2 value = \",round(metrics.r2_score(y_test,predictions),3))\n",
        "print(\"MAE = \",round(metrics.mean_absolute_error(y_test,predictions),3))\n",
        "print(\"MSE = \",round(metrics.mean_squared_error(y_test,predictions),3))\n",
        "print(\"RMSE = \",round(np.sqrt(metrics.mean_squared_error(y_test,predictions)),3))"
      ],
      "metadata": {
        "colab": {
          "base_uri": "https://localhost:8080/"
        },
        "id": "20kc7gdY9Ie3",
        "outputId": "11abed8a-647f-4a4e-ab16-a525ef112e69"
      },
      "execution_count": 36,
      "outputs": [
        {
          "output_type": "stream",
          "name": "stdout",
          "text": [
            "R2 value =  0.826\n",
            "MAE =  0.214\n",
            "MSE =  0.285\n",
            "RMSE =  0.534\n"
          ]
        }
      ]
    }
  ]
}
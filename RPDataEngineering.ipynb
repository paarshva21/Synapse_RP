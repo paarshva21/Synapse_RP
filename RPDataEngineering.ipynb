{
  "nbformat": 4,
  "nbformat_minor": 0,
  "metadata": {
    "colab": {
      "provenance": []
    },
    "kernelspec": {
      "name": "python3",
      "display_name": "Python 3"
    },
    "language_info": {
      "name": "python"
    }
  },
  "cells": [
    {
      "cell_type": "code",
      "execution_count": 19,
      "metadata": {
        "id": "91sVwjcpPLp5"
      },
      "outputs": [],
      "source": [
        "import pandas as pd\n",
        "import numpy as np\n",
        "import matplotlib.pyplot as plt\n",
        "import random"
      ]
    },
    {
      "cell_type": "code",
      "source": [
        "def Round_Robin(burst_list, arrival_list, time_quantum, total_completion_time):\n",
        "    queue = []\n",
        "    remaining_burst_time_list = [burst_list[i] for i in range(len(burst_list))]\n",
        "    flag_list = [True for i in range(len(burst_list))]\n",
        "    completion_list = [-1 for i in range(len(burst_list))]\n",
        "    waiting_list = [-1 for i in range(len(burst_list))]\n",
        "    turnaround_list = [-1 for i in range(len(burst_list))]\n",
        "    k, check = arrival_list[0], -1\n",
        "    avgTAT, avgWT = 0, 0\n",
        "    while k < total_completion_time:\n",
        "        for i in range(len(burst_list)):\n",
        "            if arrival_list[i] <= k and flag_list[i] and remaining_burst_time_list[i] > 0:\n",
        "                queue.append(i)\n",
        "                flag_list[i] = False\n",
        "        if check != -1 and remaining_burst_time_list[check] > 0:\n",
        "            queue.append(check)\n",
        "            flag_list[check] = False\n",
        "        if queue != []:\n",
        "            if remaining_burst_time_list[queue[0]] <= time_quantum:\n",
        "                k += remaining_burst_time_list[queue[0]]\n",
        "                remaining_burst_time_list[queue[0]] = 0\n",
        "                check = -1\n",
        "            else:\n",
        "                k += time_quantum\n",
        "                remaining_burst_time_list[queue[0]] -= time_quantum\n",
        "                flag_list[queue[0]] = False\n",
        "                check = queue[0]\n",
        "            if remaining_burst_time_list[queue[0]] == 0:\n",
        "                completion_list[queue[0]] = k\n",
        "                turnaround_list[queue[0]] = completion_list[queue[0]] - arrival_list[queue[0]]\n",
        "                waiting_list[queue[0]] = turnaround_list[queue[0]] - burst_list[queue[0]]\n",
        "                avgTAT += turnaround_list[queue[0]]\n",
        "                avgWT += waiting_list[queue[0]]\n",
        "            queue.pop(0)\n",
        "\n",
        "    avgTAT /= len(burst_list)\n",
        "    avgWT /= len(burst_list)\n",
        "    return avgTAT"
      ],
      "metadata": {
        "id": "8EvmXVtOX1ho"
      },
      "execution_count": 87,
      "outputs": []
    },
    {
      "cell_type": "code",
      "source": [
        "avg_burst_list, avg_arrival_list, completion_list, turnaround_list, completion_list, time_quantum_list = [], [], [], [], [], []\n",
        "for i in range(10):\n",
        "  burst_list, arrival_list, lst = [], [], []\n",
        "  number_of_processes = random.randint(2, 10)\n",
        "  for j in range(number_of_processes):\n",
        "    burst_list.append(random.randint(1, 20))\n",
        "    arrival_list.append(random.randint(1, 20))\n",
        "  avg_arrival_list.append(sum(arrival_list)/len(arrival_list))\n",
        "  avg_burst_list.append(sum(burst_list)/len(burst_list))\n",
        "  completion_list.append(sum(burst_list))\n",
        "  arrival_list.sort()\n",
        "  for j in range(1, 10):\n",
        "    temp = Round_Robin(burst_list, arrival_list, j, sum(burst_list))\n",
        "    lst.append(temp)\n",
        "  turnaround_list.append(min(lst))\n",
        "  time_quantum_list.append(lst.index(min(lst)) + 1)"
      ],
      "metadata": {
        "id": "WAFEZSY1PMT0"
      },
      "execution_count": 97,
      "outputs": []
    },
    {
      "cell_type": "code",
      "source": [
        "turnaround_list"
      ],
      "metadata": {
        "colab": {
          "base_uri": "https://localhost:8080/"
        },
        "id": "46g8Zql30W38",
        "outputId": "2eeb6d77-986b-47bb-d5ea-e444c77a59eb"
      },
      "execution_count": 98,
      "outputs": [
        {
          "output_type": "execute_result",
          "data": {
            "text/plain": [
              "[13.0,\n",
              " 11.4,\n",
              " 7.25,\n",
              " 14.0,\n",
              " 29.555555555555557,\n",
              " 71.7,\n",
              " 37.666666666666664,\n",
              " 17.166666666666668,\n",
              " 17.142857142857142,\n",
              " 5.166666666666667]"
            ]
          },
          "metadata": {},
          "execution_count": 98
        }
      ]
    },
    {
      "cell_type": "code",
      "source": [
        "time_quantum_list"
      ],
      "metadata": {
        "colab": {
          "base_uri": "https://localhost:8080/"
        },
        "id": "jVHv-8Al0xf7",
        "outputId": "aebc5525-6e02-4717-d887-ddae57677a57"
      },
      "execution_count": 99,
      "outputs": [
        {
          "output_type": "execute_result",
          "data": {
            "text/plain": [
              "[1, 5, 1, 3, 8, 2, 1, 8, 4, 7]"
            ]
          },
          "metadata": {},
          "execution_count": 99
        }
      ]
    },
    {
      "cell_type": "code",
      "source": [
        "data = {\"Optimum Time quantum\":time_quantum_list, \"Avg Arrival Time\":avg_arrival_list, \"Avg Burst Time\":avg_burst_list, \"Total Completion Time\":completion_list}"
      ],
      "metadata": {
        "id": "vrgcvuhpLQGy"
      },
      "execution_count": 100,
      "outputs": []
    },
    {
      "cell_type": "code",
      "source": [
        "df = pd.DataFrame(data)\n",
        "df"
      ],
      "metadata": {
        "colab": {
          "base_uri": "https://localhost:8080/",
          "height": 363
        },
        "id": "nxTVS70PMJcA",
        "outputId": "d15f0904-02e7-499f-bb95-1f35c3b6b90e"
      },
      "execution_count": 103,
      "outputs": [
        {
          "output_type": "execute_result",
          "data": {
            "text/plain": [
              "   Optimum Time quantum  Avg Arrival Time  Avg Burst Time  \\\n",
              "0                     1          6.000000       12.000000   \n",
              "1                     5          8.400000        6.800000   \n",
              "2                     1         11.500000       11.500000   \n",
              "3                     3         12.400000       12.400000   \n",
              "4                     8         14.666667       10.666667   \n",
              "5                     2         12.200000       12.300000   \n",
              "6                     1          7.777778       10.000000   \n",
              "7                     8         16.166667       13.333333   \n",
              "8                     4          9.142857        9.857143   \n",
              "9                     7         15.333333        7.500000   \n",
              "\n",
              "   Total Completion Time  \n",
              "0                     36  \n",
              "1                     34  \n",
              "2                     46  \n",
              "3                     62  \n",
              "4                     96  \n",
              "5                    123  \n",
              "6                     90  \n",
              "7                     80  \n",
              "8                     69  \n",
              "9                     45  "
            ],
            "text/html": [
              "\n",
              "  <div id=\"df-f1191a65-8a5b-43bb-a52d-dc6dc840123b\">\n",
              "    <div class=\"colab-df-container\">\n",
              "      <div>\n",
              "<style scoped>\n",
              "    .dataframe tbody tr th:only-of-type {\n",
              "        vertical-align: middle;\n",
              "    }\n",
              "\n",
              "    .dataframe tbody tr th {\n",
              "        vertical-align: top;\n",
              "    }\n",
              "\n",
              "    .dataframe thead th {\n",
              "        text-align: right;\n",
              "    }\n",
              "</style>\n",
              "<table border=\"1\" class=\"dataframe\">\n",
              "  <thead>\n",
              "    <tr style=\"text-align: right;\">\n",
              "      <th></th>\n",
              "      <th>Optimum Time quantum</th>\n",
              "      <th>Avg Arrival Time</th>\n",
              "      <th>Avg Burst Time</th>\n",
              "      <th>Total Completion Time</th>\n",
              "    </tr>\n",
              "  </thead>\n",
              "  <tbody>\n",
              "    <tr>\n",
              "      <th>0</th>\n",
              "      <td>1</td>\n",
              "      <td>6.000000</td>\n",
              "      <td>12.000000</td>\n",
              "      <td>36</td>\n",
              "    </tr>\n",
              "    <tr>\n",
              "      <th>1</th>\n",
              "      <td>5</td>\n",
              "      <td>8.400000</td>\n",
              "      <td>6.800000</td>\n",
              "      <td>34</td>\n",
              "    </tr>\n",
              "    <tr>\n",
              "      <th>2</th>\n",
              "      <td>1</td>\n",
              "      <td>11.500000</td>\n",
              "      <td>11.500000</td>\n",
              "      <td>46</td>\n",
              "    </tr>\n",
              "    <tr>\n",
              "      <th>3</th>\n",
              "      <td>3</td>\n",
              "      <td>12.400000</td>\n",
              "      <td>12.400000</td>\n",
              "      <td>62</td>\n",
              "    </tr>\n",
              "    <tr>\n",
              "      <th>4</th>\n",
              "      <td>8</td>\n",
              "      <td>14.666667</td>\n",
              "      <td>10.666667</td>\n",
              "      <td>96</td>\n",
              "    </tr>\n",
              "    <tr>\n",
              "      <th>5</th>\n",
              "      <td>2</td>\n",
              "      <td>12.200000</td>\n",
              "      <td>12.300000</td>\n",
              "      <td>123</td>\n",
              "    </tr>\n",
              "    <tr>\n",
              "      <th>6</th>\n",
              "      <td>1</td>\n",
              "      <td>7.777778</td>\n",
              "      <td>10.000000</td>\n",
              "      <td>90</td>\n",
              "    </tr>\n",
              "    <tr>\n",
              "      <th>7</th>\n",
              "      <td>8</td>\n",
              "      <td>16.166667</td>\n",
              "      <td>13.333333</td>\n",
              "      <td>80</td>\n",
              "    </tr>\n",
              "    <tr>\n",
              "      <th>8</th>\n",
              "      <td>4</td>\n",
              "      <td>9.142857</td>\n",
              "      <td>9.857143</td>\n",
              "      <td>69</td>\n",
              "    </tr>\n",
              "    <tr>\n",
              "      <th>9</th>\n",
              "      <td>7</td>\n",
              "      <td>15.333333</td>\n",
              "      <td>7.500000</td>\n",
              "      <td>45</td>\n",
              "    </tr>\n",
              "  </tbody>\n",
              "</table>\n",
              "</div>\n",
              "      <button class=\"colab-df-convert\" onclick=\"convertToInteractive('df-f1191a65-8a5b-43bb-a52d-dc6dc840123b')\"\n",
              "              title=\"Convert this dataframe to an interactive table.\"\n",
              "              style=\"display:none;\">\n",
              "        \n",
              "  <svg xmlns=\"http://www.w3.org/2000/svg\" height=\"24px\"viewBox=\"0 0 24 24\"\n",
              "       width=\"24px\">\n",
              "    <path d=\"M0 0h24v24H0V0z\" fill=\"none\"/>\n",
              "    <path d=\"M18.56 5.44l.94 2.06.94-2.06 2.06-.94-2.06-.94-.94-2.06-.94 2.06-2.06.94zm-11 1L8.5 8.5l.94-2.06 2.06-.94-2.06-.94L8.5 2.5l-.94 2.06-2.06.94zm10 10l.94 2.06.94-2.06 2.06-.94-2.06-.94-.94-2.06-.94 2.06-2.06.94z\"/><path d=\"M17.41 7.96l-1.37-1.37c-.4-.4-.92-.59-1.43-.59-.52 0-1.04.2-1.43.59L10.3 9.45l-7.72 7.72c-.78.78-.78 2.05 0 2.83L4 21.41c.39.39.9.59 1.41.59.51 0 1.02-.2 1.41-.59l7.78-7.78 2.81-2.81c.8-.78.8-2.07 0-2.86zM5.41 20L4 18.59l7.72-7.72 1.47 1.35L5.41 20z\"/>\n",
              "  </svg>\n",
              "      </button>\n",
              "      \n",
              "  <style>\n",
              "    .colab-df-container {\n",
              "      display:flex;\n",
              "      flex-wrap:wrap;\n",
              "      gap: 12px;\n",
              "    }\n",
              "\n",
              "    .colab-df-convert {\n",
              "      background-color: #E8F0FE;\n",
              "      border: none;\n",
              "      border-radius: 50%;\n",
              "      cursor: pointer;\n",
              "      display: none;\n",
              "      fill: #1967D2;\n",
              "      height: 32px;\n",
              "      padding: 0 0 0 0;\n",
              "      width: 32px;\n",
              "    }\n",
              "\n",
              "    .colab-df-convert:hover {\n",
              "      background-color: #E2EBFA;\n",
              "      box-shadow: 0px 1px 2px rgba(60, 64, 67, 0.3), 0px 1px 3px 1px rgba(60, 64, 67, 0.15);\n",
              "      fill: #174EA6;\n",
              "    }\n",
              "\n",
              "    [theme=dark] .colab-df-convert {\n",
              "      background-color: #3B4455;\n",
              "      fill: #D2E3FC;\n",
              "    }\n",
              "\n",
              "    [theme=dark] .colab-df-convert:hover {\n",
              "      background-color: #434B5C;\n",
              "      box-shadow: 0px 1px 3px 1px rgba(0, 0, 0, 0.15);\n",
              "      filter: drop-shadow(0px 1px 2px rgba(0, 0, 0, 0.3));\n",
              "      fill: #FFFFFF;\n",
              "    }\n",
              "  </style>\n",
              "\n",
              "      <script>\n",
              "        const buttonEl =\n",
              "          document.querySelector('#df-f1191a65-8a5b-43bb-a52d-dc6dc840123b button.colab-df-convert');\n",
              "        buttonEl.style.display =\n",
              "          google.colab.kernel.accessAllowed ? 'block' : 'none';\n",
              "\n",
              "        async function convertToInteractive(key) {\n",
              "          const element = document.querySelector('#df-f1191a65-8a5b-43bb-a52d-dc6dc840123b');\n",
              "          const dataTable =\n",
              "            await google.colab.kernel.invokeFunction('convertToInteractive',\n",
              "                                                     [key], {});\n",
              "          if (!dataTable) return;\n",
              "\n",
              "          const docLinkHtml = 'Like what you see? Visit the ' +\n",
              "            '<a target=\"_blank\" href=https://colab.research.google.com/notebooks/data_table.ipynb>data table notebook</a>'\n",
              "            + ' to learn more about interactive tables.';\n",
              "          element.innerHTML = '';\n",
              "          dataTable['output_type'] = 'display_data';\n",
              "          await google.colab.output.renderOutput(dataTable, element);\n",
              "          const docLink = document.createElement('div');\n",
              "          docLink.innerHTML = docLinkHtml;\n",
              "          element.appendChild(docLink);\n",
              "        }\n",
              "      </script>\n",
              "    </div>\n",
              "  </div>\n",
              "  "
            ]
          },
          "metadata": {},
          "execution_count": 103
        }
      ]
    }
  ]
}